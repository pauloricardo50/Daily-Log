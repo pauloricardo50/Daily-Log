{
  "nbformat": 4,
  "nbformat_minor": 0,
  "metadata": {
    "colab": {
      "name": "Parte 02 - Identificação de Perfis de Clientes.ipynb",
      "provenance": []
    },
    "kernelspec": {
      "name": "python3",
      "display_name": "Python 3"
    }
  },
  "cells": [
    {
      "cell_type": "markdown",
      "metadata": {
        "id": "WmNzmXevmIkl",
        "colab_type": "text"
      },
      "source": [
        "Importando as bibliotecas:"
      ]
    },
    {
      "cell_type": "code",
      "metadata": {
        "id": "Iiim6OExEmAW",
        "colab_type": "code",
        "colab": {}
      },
      "source": [
        "import pandas as pd\n",
        "import numpy as np\n",
        "import seaborn as sb\n",
        "from matplotlib import pyplot as plt\n",
        "from sklearn.cluster import KMeans\n",
        "\n",
        "%matplotlib inline"
      ],
      "execution_count": null,
      "outputs": []
    },
    {
      "cell_type": "markdown",
      "metadata": {
        "id": "ILxPB8U4mLI8",
        "colab_type": "text"
      },
      "source": [
        "Lendo o arquivo texto, usando espaço em branco como separador dos dados."
      ]
    },
    {
      "cell_type": "code",
      "metadata": {
        "id": "dRR2mYx9FcU9",
        "colab_type": "code",
        "colab": {}
      },
      "source": [
        "dados = pd.read_csv(\"dados-venda-livros.txt\", sep=\" \")"
      ],
      "execution_count": null,
      "outputs": []
    },
    {
      "cell_type": "markdown",
      "metadata": {
        "id": "QnFi__BumU5C",
        "colab_type": "text"
      },
      "source": [
        "Transformando os dados em um array."
      ]
    },
    {
      "cell_type": "code",
      "metadata": {
        "id": "iaPlYN60cPZD",
        "colab_type": "code",
        "colab": {}
      },
      "source": [
        "X = np.array(dados)"
      ],
      "execution_count": null,
      "outputs": []
    },
    {
      "cell_type": "markdown",
      "metadata": {
        "id": "B9zhDnf-mal7",
        "colab_type": "text"
      },
      "source": [
        "Inicializamos a classe de K-Means, querendo uma classificação com 4 clusteres. Executamos com o método fit."
      ]
    },
    {
      "cell_type": "code",
      "metadata": {
        "id": "IJ45Ssw9GCeq",
        "colab_type": "code",
        "colab": {}
      },
      "source": [
        "kmeans = KMeans(n_clusters= 4, random_state=0).fit(X)"
      ],
      "execution_count": null,
      "outputs": []
    },
    {
      "cell_type": "markdown",
      "metadata": {
        "id": "zHT75xyqmxnj",
        "colab_type": "text"
      },
      "source": [
        "Separamos as cores, baseadas na classificação do K-Means (\"labels_\" devolve um índice) e plotamos os dados na tela."
      ]
    },
    {
      "cell_type": "code",
      "metadata": {
        "id": "6f8orRhEgT5M",
        "colab_type": "code",
        "colab": {
          "base_uri": "https://localhost:8080/",
          "height": 312
        },
        "outputId": "ef029387-c58a-4dd3-d36b-f5050f2f8c24"
      },
      "source": [
        "cor_grupo = np.array(['yellow', 'green', 'red', 'blue'])\n",
        "\n",
        "plt.subplot(1,2,2)\n",
        "plt.scatter(x=dados.preco, y=dados.idade, c= cor_grupo[kmeans.labels_])\n",
        "plt.title(\"Dados de venda de livro\")\n",
        "plt.xlabel(\"Preço da compra\")\n",
        "plt.ylabel(\"Idade do cliente\")"
      ],
      "execution_count": null,
      "outputs": [
        {
          "output_type": "execute_result",
          "data": {
            "text/plain": [
              "Text(0, 0.5, 'Idade do cliente')"
            ]
          },
          "metadata": {
            "tags": []
          },
          "execution_count": 63
        },
        {
          "output_type": "display_data",
          "data": {
            "image/png": "[encoded data removed]",
            "text/plain": [
              "<Figure size 432x288 with 1 Axes>"
            ]
          },
          "metadata": {
            "tags": [],
            "needs_background": "light"
          }
        }
      ]
    },
    {
      "cell_type": "markdown",
      "metadata": {
        "id": "KPKhPKNuoDVd",
        "colab_type": "text"
      },
      "source": [
        "# Explicando o algoritmo do K-Means\n",
        "Primeiro, temos que selecionar quantos clusteres queremos, para classificar os nossos dados (isso é o \"k\" do K-Means). Depois de escolhido, é assinalado um centro (conhecido como centróide) aleatório para cada cluster, para começar a execução.\n",
        "<br>\n",
        "Agora, até o cluster parar de mudar a localização, é tirado uma média dos vetores dos clusteres, para calcular a localização dos centróides dos clusteres obtidos. E com os novos centros assinalados, o ponto irá ser classificado de acordo com o cluster mais próximo dele.\n",
        "# Explicando as possíveis classificações geradas no nosso projeto\n",
        "As possíveis classificações que nós postulamos, foram as seguintes:\n",
        "\n",
        "\n",
        "*   Jovens que fizeram compras baratas (amarelo);\n",
        "*   Jovens que compraram livros caros (verde);\n",
        "\n",
        "\n",
        "*   Pessoas mais velhas que fizeram compras baratas (azul);\n",
        "*   Pessoas de idade intermediária que fizeram compras em preços intermediários (vermelho)\n",
        "\n",
        "As possíveis campanhas que podemos fazer, podem ser anúncios de livros mais baratos para pessoas mais velhas e para os grupos amarelo e vermelho e anúncios de livros mais caros para o grupo verde.\n",
        "\n",
        "\n"
      ]
    }
  ]
}